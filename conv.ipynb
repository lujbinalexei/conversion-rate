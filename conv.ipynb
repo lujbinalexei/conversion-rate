{
 "cells": [
  {
   "cell_type": "code",
   "execution_count": 1,
   "metadata": {},
   "outputs": [],
   "source": [
    "import warnings\n",
    "warnings.filterwarnings('ignore')\n",
    "import pandas as pd\n",
    "from glob import glob\n",
    "import scipy\n",
    "from statsmodels.stats.proportion import proportion_confint"
   ]
  },
  {
   "cell_type": "code",
   "execution_count": 2,
   "metadata": {},
   "outputs": [],
   "source": [
    "path_zvk1 = r'C:\\Users\\Alexei\\Desktop\\conv\\data\\26_30'\n",
    "path_zvk2 = r'C:\\Users\\Alexei\\Desktop\\conv\\data\\02_06'"
   ]
  },
  {
   "cell_type": "code",
   "execution_count": 3,
   "metadata": {},
   "outputs": [],
   "source": [
    "def period(begin, end):\n",
    "    return pd.to_datetime(begin, dayfirst = True), pd.to_datetime(end, dayfirst = True) + pd.to_timedelta('1 day')\n",
    "\n",
    "def merge_zvk(zvk):\n",
    "    columns = ['№ заявки', 'Дата создания заявки', 'Моб. телефон']\n",
    "\n",
    "    df_zvk = pd.read_csv(zvk[0], sep = ';', encoding = 'cp1251', dtype = {'Моб. телефон': 'str'})\n",
    "    df_zvk = df_zvk.reindex(columns = columns)\n",
    "\n",
    "    for i in range(1, len(zvk)):\n",
    "        tmp = pd.read_csv(zvk[i], sep = ';', encoding = 'cp1251', dtype = {'Моб. телефон': 'str'})\n",
    "        tmp = tmp.reindex(columns = columns)\n",
    "        df_zvk = df_zvk.append(tmp, ignore_index = True)\n",
    "\n",
    "    df_zvk.dropna(inplace = True)\n",
    "    df_zvk.drop_duplicates(inplace = True)\n",
    "    df_zvk['Дата создания заявки'] = list(map(lambda x: pd.to_datetime(str(x).split(' ')[0], dayfirst = True),\n",
    "                                                                                      df_zvk['Дата создания заявки']))\n",
    "    return df_zvk\n",
    "\n",
    "def merge_abnd(abnd):\n",
    "    usecols = [0, 1]\n",
    "    names = ['Моб. телефон', 'Дата']\n",
    "    df_abnd = pd.read_csv(abnd[0], sep = ';', names = names, usecols = usecols, encoding = 'cp1251',\n",
    "                                                                      dtype = {'Моб. телефон': 'str'})\n",
    "    for i in range(1, len(abnd)):\n",
    "        tmp = pd.read_csv(abnd[i], sep = ';', names = names, usecols = usecols, encoding = 'cp1251',\n",
    "                                                                      dtype = {'Моб. телефон': 'str'})\n",
    "        df_abnd = df_abnd.append(tmp, ignore_index = True)\n",
    "\n",
    "    df_abnd.dropna(inplace = True)\n",
    "    df_abnd.drop_duplicates(inplace = True)\n",
    "    df_abnd['Дата'] = list(map(lambda x: pd.to_datetime(str(x).split(' ')[0], dayfirst = True), df_abnd['Дата']))\n",
    "    return df_abnd\n",
    "\n",
    "def proportions_diff_z_stat_ind(sample1, sample2):\n",
    "    n1 = len(sample1[0]) + len(sample1[1])\n",
    "    n2 = len(sample2[0]) + len(sample2[1])\n",
    "    \n",
    "    p1 = len(sample1[1]) / n1\n",
    "    p2 = len(sample2[1]) / n2\n",
    "    \n",
    "    P = float(p1 * n1 + p2 * n2) / (n1 + n2)\n",
    "    \n",
    "    return (p1 - p2) / (P * (1 - P) * (1 / n1 + 1 / n2))**0.5"
   ]
  },
  {
   "cell_type": "code",
   "execution_count": 4,
   "metadata": {},
   "outputs": [],
   "source": [
    "f = glob(path_zvk1 + '\\\\' + '*.csv')\n",
    "zvk1 = [i for i in f if 'five' in i]\n",
    "abnd1 = list(set(f) - set(zvk1))\n",
    "\n",
    "g = glob(path_zvk2 + '\\\\' + '*.csv')\n",
    "zvk2 = [i for i in g if 'five' in i]\n",
    "abnd2 = list(set(g) - set(zvk2))\n",
    "\n",
    "df_zvk1 = merge_zvk(zvk1)\n",
    "df_zvk2 = merge_zvk(zvk2)\n",
    "df_abnd1 = merge_abnd(abnd1)\n",
    "df_abnd2 = merge_abnd(abnd2)"
   ]
  },
  {
   "cell_type": "code",
   "execution_count": 5,
   "metadata": {},
   "outputs": [
    {
     "name": "stdout",
     "output_type": "stream",
     "text": [
      "Период 1 составляют отчетные даты: [Timestamp('2019-08-26 00:00:00'), Timestamp('2019-08-27 00:00:00'), Timestamp('2019-08-28 00:00:00'), Timestamp('2019-08-29 00:00:00')]\n",
      "\n",
      "Период 2 составляют отчетные даты: [Timestamp('2019-09-03 00:00:00'), Timestamp('2019-09-04 00:00:00'), Timestamp('2019-09-05 00:00:00'), Timestamp('2019-09-06 00:00:00')]\n"
     ]
    }
   ],
   "source": [
    "begin1, end1 = period('26.08.2019', '29.08.2019')\n",
    "begin2, end2 = period('03.09.2019', '06.09.2019')\n",
    "\n",
    "df_zvk1_ = df_zvk1[(df_zvk1['Дата создания заявки'] >= begin1) & (df_zvk1['Дата создания заявки'] < end1)]\n",
    "df_zvk2_ = df_zvk2[(df_zvk2['Дата создания заявки'] >= begin2) & (df_zvk2['Дата создания заявки'] < end2)]\n",
    "df_abnd1_ = df_abnd1[(df_abnd1['Дата'] >= begin1) & (df_abnd1['Дата'] < end1)]\n",
    "df_abnd2_ = df_abnd2[(df_abnd2['Дата'] >= begin2) & (df_abnd2['Дата'] < end2)]\n",
    "\n",
    "print('Период 1 составляют отчетные даты: {}\\n'.format(sorted(set(df_zvk1_['Дата создания заявки']) & set(df_abnd1_['Дата']))))\n",
    "print('Период 2 составляют отчетные даты: {}'.format(sorted(set(df_zvk2_['Дата создания заявки']) & set(df_abnd2_['Дата']))))"
   ]
  },
  {
   "cell_type": "code",
   "execution_count": 6,
   "metadata": {},
   "outputs": [
    {
     "name": "stdout",
     "output_type": "stream",
     "text": [
      "Конверсия в период с 2019-08-26 00:00:00 по 2019-08-30 00:00:00: 69.93%\n",
      "Конверсия в период с 2019-09-03 00:00:00 по 2019-09-07 00:00:00: 68.14%\n"
     ]
    }
   ],
   "source": [
    "abnd1_s = set(df_abnd1_['Моб. телефон']) - (set(df_abnd1_['Моб. телефон']) & set(df_zvk1_['Моб. телефон']))\n",
    "zvk1_s  = set(df_zvk1_['Моб. телефон'])\n",
    "conv1 = len(zvk1_s) / (len(zvk1_s) + len(abnd1_s))\n",
    "print('Конверсия в период с {} по {}: {}%'.format(begin1, end1, round(conv1 * 100, 2)))\n",
    "\n",
    "abnd2_s = set(df_abnd2_['Моб. телефон']) - (set(df_abnd2_['Моб. телефон']) & set(df_zvk2_['Моб. телефон']))\n",
    "zvk2_s  = set(df_zvk2_['Моб. телефон'])\n",
    "conv2 = len(zvk2_s) / (len(zvk2_s) + len(abnd2_s))\n",
    "print('Конверсия в период с {} по {}: {}%'.format(begin2, end2, round(conv2 * 100, 2)))"
   ]
  },
  {
   "cell_type": "code",
   "execution_count": 7,
   "metadata": {},
   "outputs": [
    {
     "data": {
      "text/plain": [
       "0.03534555583782262"
      ]
     },
     "execution_count": 7,
     "metadata": {},
     "output_type": "execute_result"
    }
   ],
   "source": [
    "z_stat = proportions_diff_z_stat_ind([abnd1_s, zvk1_s], [abnd2_s, zvk2_s])\n",
    "2 * (1 - scipy.stats.norm.cdf(abs(z_stat)))"
   ]
  },
  {
   "cell_type": "code",
   "execution_count": null,
   "metadata": {},
   "outputs": [],
   "source": []
  },
  {
   "cell_type": "code",
   "execution_count": null,
   "metadata": {},
   "outputs": [],
   "source": []
  }
 ],
 "metadata": {
  "kernelspec": {
   "display_name": "Python 3",
   "language": "python",
   "name": "python3"
  },
  "language_info": {
   "codemirror_mode": {
    "name": "ipython",
    "version": 3
   },
   "file_extension": ".py",
   "mimetype": "text/x-python",
   "name": "python",
   "nbconvert_exporter": "python",
   "pygments_lexer": "ipython3",
   "version": "3.6.5"
  }
 },
 "nbformat": 4,
 "nbformat_minor": 2
}
